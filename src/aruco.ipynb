{
 "cells": [
  {
   "cell_type": "code",
   "execution_count": 1,
   "id": "c3c136bb-64e9-4866-a8fc-9757c95a2d28",
   "metadata": {},
   "outputs": [
    {
     "name": "stdout",
     "output_type": "stream",
     "text": [
      "Requirement already satisfied: opencv-contrib-python in /private/tmp/py311_env/lib/python3.11/site-packages (4.10.0.84)\n",
      "Requirement already satisfied: numpy>=1.21.2 in /private/tmp/py311_env/lib/python3.11/site-packages (from opencv-contrib-python) (1.26.4)\n",
      "\n",
      "\u001b[1m[\u001b[0m\u001b[34;49mnotice\u001b[0m\u001b[1;39;49m]\u001b[0m\u001b[39;49m A new release of pip is available: \u001b[0m\u001b[31;49m23.3.1\u001b[0m\u001b[39;49m -> \u001b[0m\u001b[32;49m24.3.1\u001b[0m\n",
      "\u001b[1m[\u001b[0m\u001b[34;49mnotice\u001b[0m\u001b[1;39;49m]\u001b[0m\u001b[39;49m To update, run: \u001b[0m\u001b[32;49mpip install --upgrade pip\u001b[0m\n"
     ]
    }
   ],
   "source": [
    "import sys\n",
    "#!{sys.executable} -m pip install opencv-contrib-python\n",
    "#!{sys.executable} -m pip install --upgrade opencv-contrib-python\n",
    "!pip install opencv-contrib-python"
   ]
  },
  {
   "cell_type": "code",
   "execution_count": 3,
   "id": "5c15eb78",
   "metadata": {},
   "outputs": [
    {
     "name": "stdout",
     "output_type": "stream",
     "text": [
      "[[35]\n",
      " [12]\n",
      " [19]\n",
      " [11]\n",
      " [31]\n",
      " [30]\n",
      " [ 6]\n",
      " [ 5]\n",
      " [40]\n",
      " [46]\n",
      " [ 4]\n",
      " [ 3]\n",
      " [26]\n",
      " [38]]\n",
      "Center point of marker ID 46: (817, 605)\n"
     ]
    },
    {
     "name": "stderr",
     "output_type": "stream",
     "text": [
      "2024-11-01 18:43:00.761 Python[61412:4460653] WARNING: Secure coding is not enabled for restorable state! Enable secure coding by implementing NSApplicationDelegate.applicationSupportsSecureRestorableState: and returning YES.\n"
     ]
    }
   ],
   "source": [
    "import cv2\n",
    "import numpy as np\n",
    "from cv2 import aruco\n",
    "\n",
    "# Load the original image and the replacement image\n",
    "input_img = \"./lroom/00/0000000150.jpg\"\n",
    "# Define the ID of the marker you want to replace\n",
    "target_marker_id = 3  # Change this to the ID of the marker you want to target\n",
    "replacement_img_path = \"./demo/lamp_rep.jpg\"\n",
    "\n",
    "input_img = \"./lroom/00/0000000207.jpg\"\n",
    "# Define the ID of the marker you want to replace\n",
    "target_marker_id = 4  # Change this to the ID of the marker you want to target\n",
    "replacement_img_path = \"./demo/lamp_rep.jpg\"\n",
    "\n",
    "input_img = \"./lroom/00/0000000176.jpg\"\n",
    "# Define the ID of the marker you want to replace\n",
    "target_marker_id = 46  # Change this to the ID of the marker you want to target\n",
    "replacement_img_path = \"./demo/lamp_rep.jpg\"\n",
    "\n",
    "# Resize the replacement image to be larger than the marker\n",
    "replacement_size_factor = 3 # Factor to enlarge the replacement image\n",
    "\n",
    "original_image = cv2.imread(input_img)\n",
    "replacement_image = cv2.imread(replacement_img_path)\n",
    "\n",
    "# Load the ArUco dictionary and parameters\n",
    "aruco_dict = aruco.getPredefinedDictionary(aruco.DICT_4X4_50)\n",
    "parameters = aruco.DetectorParameters()\n",
    "\n",
    "\n",
    "\n",
    "# Detect ArUco markers in the image\n",
    "corners, ids, _ = aruco.detectMarkers(original_image, aruco_dict, parameters=parameters)\n",
    "\n",
    "print(ids)\n",
    "\n",
    "# Check if any markers were detected\n",
    "if ids is not None and target_marker_id in ids:\n",
    "    # Get the index of the target marker\n",
    "    index = np.where(ids.flatten() == target_marker_id)[0][0]\n",
    "    corner = corners[index][0]  # Get the corners of the target marker\n",
    "\n",
    "    # Calculate the center of the detected marker\n",
    "    center_x = int(np.mean(corner[:, 0]))\n",
    "    center_y = int(np.mean(corner[:, 1]))\n",
    "    center_point = (center_x, center_y)\n",
    "    \n",
    "    # Print the center point for verification\n",
    "    print(f\"Center point of marker ID {target_marker_id}: {center_point}\")\n",
    "\n",
    "\n",
    "    marker_width = int(np.linalg.norm(corner[0] - corner[1]))  # Calculate width of the marker\n",
    "    marker_height = int(np.linalg.norm(corner[0] - corner[3]))  # Calculate height of the marker\n",
    "    new_replacement_width = marker_width * replacement_size_factor\n",
    "    new_replacement_height = marker_height * replacement_size_factor\n",
    "\n",
    "    # Resize the replacement image\n",
    "    replacement_image_resized = cv2.resize(replacement_image, (new_replacement_width, new_replacement_height))\n",
    "\n",
    "    # Calculate the top-left corner for overlaying the replacement image\n",
    "    top_left_x = center_x - new_replacement_width // 2\n",
    "    top_left_y = center_y - new_replacement_height // 2\n",
    "\n",
    "    # Overlay the resized replacement image onto the original image\n",
    "    # Ensure the overlay is within the image boundaries\n",
    "    h, w = original_image.shape[:2]\n",
    "    if top_left_x < 0:\n",
    "        top_left_x = 0\n",
    "    if top_left_y < 0:\n",
    "        top_left_y = 0\n",
    "    if top_left_x + new_replacement_width > w:\n",
    "        new_replacement_width = w - top_left_x\n",
    "    if top_left_y + new_replacement_height > h:\n",
    "        new_replacement_height = h - top_left_y\n",
    "\n",
    "    # Create a region of interest (ROI) for the overlay\n",
    "    roi = original_image[top_left_y:top_left_y + new_replacement_height, top_left_x:top_left_x + new_replacement_width]\n",
    "\n",
    "    # Overlay the replacement image on the ROI\n",
    "    replacement_image_resized_cropped = replacement_image_resized[0:new_replacement_height, 0:new_replacement_width]\n",
    "    combined_roi = cv2.addWeighted(roi, 0, replacement_image_resized_cropped, 1, 0)  # No blending needed\n",
    "\n",
    "    # Place the combined ROI back into the original image\n",
    "    original_image[top_left_y:top_left_y + new_replacement_height, top_left_x:top_left_x + new_replacement_width] = combined_roi\n",
    "\n",
    "    # Show the final image with the replacement\n",
    "    cv2.imshow('Final Image', original_image)\n",
    "    cv2.waitKey(0)\n",
    "else:\n",
    "    print(f\"Marker ID {target_marker_id} not detected.\")\n",
    "\n",
    "cv2.destroyAllWindows()\n"
   ]
  }
 ],
 "metadata": {
  "kernelspec": {
   "display_name": "Python 3 (ipykernel)",
   "language": "python",
   "name": "python3"
  },
  "language_info": {
   "codemirror_mode": {
    "name": "ipython",
    "version": 3
   },
   "file_extension": ".py",
   "mimetype": "text/x-python",
   "name": "python",
   "nbconvert_exporter": "python",
   "pygments_lexer": "ipython3",
   "version": "3.11.6"
  }
 },
 "nbformat": 4,
 "nbformat_minor": 5
}
