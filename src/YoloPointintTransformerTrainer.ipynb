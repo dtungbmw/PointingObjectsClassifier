{
 "cells": [
  {
   "cell_type": "code",
   "execution_count": 55,
   "id": "b589008e-aee0-42ed-8470-7e0a4419f5f3",
   "metadata": {},
   "outputs": [
    {
     "name": "stdout",
     "output_type": "stream",
     "text": [
      "The autoreload extension is already loaded. To reload it, use:\n",
      "  %reload_ext autoreload\n"
     ]
    }
   ],
   "source": [
    "%load_ext autoreload\n",
    "%autoreload 2"
   ]
  },
  {
   "cell_type": "code",
   "execution_count": 64,
   "id": "b0f4a148-2966-4dea-8b45-12b873ae69bb",
   "metadata": {},
   "outputs": [],
   "source": [
    "from praxis.YoloPointingTransformer import TransformerPointingTrainer\n",
    "from omegaconf import DictConfig, OmegaConf\n",
    "from torch.utils.data import DataLoader, WeightedRandomSampler, Subset\n",
    "from praxis.pc_dataset import *\n",
    "from pathlib import Path\n",
    "import logging\n",
    "import torch\n",
    "import os\n",
    "from pathlib import Path"
   ]
  },
  {
   "cell_type": "code",
   "execution_count": 65,
   "id": "0edfb99f-6f13-41d0-b959-a4b4d7c62602",
   "metadata": {},
   "outputs": [],
   "source": [
    "def setup_dataloader(cfg: DictConfig) -> DataLoader:\n",
    "\n",
    "    DEVICE = cfg.DEVICE\n",
    "    if DEVICE == \"cpu\" and cfg.task == \"train\":\n",
    "        logging.warning(\"Training DeePoint with CPU takes a long time.\")\n",
    "    if cfg.task == \"test\" and cfg.verbose is not True and cfg.shrink_rate != 1:\n",
    "        logging.warning(\n",
    "            \"Using only part of test dataset. You should set `shrink_rate=1` except for speeding up the performance for visualization\"\n",
    "        )\n",
    "\n",
    "    assert not (\n",
    "        cfg.task == \"test\" and cfg.ckpt is None\n",
    "    ), \"checkpoint should be specified for evaluation\"\n",
    "    \n",
    "    keypoints_path = Path(os.getcwd()).parent.parent / cfg.keypoints_root\n",
    "    train_ds = PCDataset(keypoints_path, cfg)\n",
    "    \n",
    "    train_dl = DataLoader(\n",
    "        train_ds,\n",
    "        batch_size=cfg.hardware.bs,\n",
    "        #sampler=train_sampler,\n",
    "        num_workers=cfg.hardware.nworkers,\n",
    "        persistent_workers=True if cfg.hardware.nworkers != 0 else False,\n",
    "    )\n",
    "    \n",
    "    return train_dl"
   ]
  },
  {
   "cell_type": "code",
   "execution_count": 66,
   "id": "6ecb6657-1ac9-4cfa-adf0-89af98f31947",
   "metadata": {},
   "outputs": [],
   "source": [
    "def main_func():\n",
    "    DEVICE = \"cuda\" if torch.cuda.is_available() else \"cpu\"\n",
    "    cfg = OmegaConf.load(\"../conf/pcmodel.yaml\")\n",
    "    cfg.DEVICE = DEVICE\n",
    "    dl = setup_dataloader(cfg)\n",
    "    print(cfg)"
   ]
  },
  {
   "cell_type": "markdown",
   "id": "27806f9a",
   "metadata": {},
   "source": []
  },
  {
   "cell_type": "code",
   "execution_count": 67,
   "id": "ed139600",
   "metadata": {},
   "outputs": [
    {
     "name": "stderr",
     "output_type": "stream",
     "text": [
      "WARNING:root:Training DeePoint with CPU takes a long time.\n"
     ]
    },
    {
     "ename": "FileNotFoundError",
     "evalue": "[Errno 2] No such file or directory: '/Users/davidtung/Documents/GitHub/data/keypoints/triangulation.pickle'",
     "output_type": "error",
     "traceback": [
      "\u001b[0;31m---------------------------------------------------------------------------\u001b[0m",
      "\u001b[0;31mFileNotFoundError\u001b[0m                         Traceback (most recent call last)",
      "Cell \u001b[0;32mIn[67], line 1\u001b[0m\n\u001b[0;32m----> 1\u001b[0m \u001b[43mmain_func\u001b[49m\u001b[43m(\u001b[49m\u001b[43m)\u001b[49m\n",
      "Cell \u001b[0;32mIn[66], line 5\u001b[0m, in \u001b[0;36mmain_func\u001b[0;34m()\u001b[0m\n\u001b[1;32m      3\u001b[0m cfg \u001b[38;5;241m=\u001b[39m OmegaConf\u001b[38;5;241m.\u001b[39mload(\u001b[38;5;124m\"\u001b[39m\u001b[38;5;124m../conf/pcmodel.yaml\u001b[39m\u001b[38;5;124m\"\u001b[39m)\n\u001b[1;32m      4\u001b[0m cfg\u001b[38;5;241m.\u001b[39mDEVICE \u001b[38;5;241m=\u001b[39m DEVICE\n\u001b[0;32m----> 5\u001b[0m dl \u001b[38;5;241m=\u001b[39m \u001b[43msetup_dataloader\u001b[49m\u001b[43m(\u001b[49m\u001b[43mcfg\u001b[49m\u001b[43m)\u001b[49m\n\u001b[1;32m      6\u001b[0m \u001b[38;5;28mprint\u001b[39m(cfg)\n",
      "Cell \u001b[0;32mIn[65], line 16\u001b[0m, in \u001b[0;36msetup_dataloader\u001b[0;34m(cfg)\u001b[0m\n\u001b[1;32m     11\u001b[0m \u001b[38;5;28;01massert\u001b[39;00m \u001b[38;5;129;01mnot\u001b[39;00m (\n\u001b[1;32m     12\u001b[0m     cfg\u001b[38;5;241m.\u001b[39mtask \u001b[38;5;241m==\u001b[39m \u001b[38;5;124m\"\u001b[39m\u001b[38;5;124mtest\u001b[39m\u001b[38;5;124m\"\u001b[39m \u001b[38;5;129;01mand\u001b[39;00m cfg\u001b[38;5;241m.\u001b[39mckpt \u001b[38;5;129;01mis\u001b[39;00m \u001b[38;5;28;01mNone\u001b[39;00m\n\u001b[1;32m     13\u001b[0m ), \u001b[38;5;124m\"\u001b[39m\u001b[38;5;124mcheckpoint should be specified for evaluation\u001b[39m\u001b[38;5;124m\"\u001b[39m\n\u001b[1;32m     15\u001b[0m keypoints_path \u001b[38;5;241m=\u001b[39m Path(os\u001b[38;5;241m.\u001b[39mgetcwd())\u001b[38;5;241m.\u001b[39mparent\u001b[38;5;241m.\u001b[39mparent \u001b[38;5;241m/\u001b[39m cfg\u001b[38;5;241m.\u001b[39mkeypoints_root\n\u001b[0;32m---> 16\u001b[0m train_ds \u001b[38;5;241m=\u001b[39m \u001b[43mPCDataset\u001b[49m\u001b[43m(\u001b[49m\u001b[43mkeypoints_path\u001b[49m\u001b[43m,\u001b[49m\u001b[43m \u001b[49m\u001b[43mcfg\u001b[49m\u001b[43m)\u001b[49m\n\u001b[1;32m     18\u001b[0m train_dl \u001b[38;5;241m=\u001b[39m DataLoader(\n\u001b[1;32m     19\u001b[0m     train_ds,\n\u001b[1;32m     20\u001b[0m     batch_size\u001b[38;5;241m=\u001b[39mcfg\u001b[38;5;241m.\u001b[39mhardware\u001b[38;5;241m.\u001b[39mbs,\n\u001b[0;32m   (...)\u001b[0m\n\u001b[1;32m     23\u001b[0m     persistent_workers\u001b[38;5;241m=\u001b[39m\u001b[38;5;28;01mTrue\u001b[39;00m \u001b[38;5;28;01mif\u001b[39;00m cfg\u001b[38;5;241m.\u001b[39mhardware\u001b[38;5;241m.\u001b[39mnworkers \u001b[38;5;241m!=\u001b[39m \u001b[38;5;241m0\u001b[39m \u001b[38;5;28;01melse\u001b[39;00m \u001b[38;5;28;01mFalse\u001b[39;00m,\n\u001b[1;32m     24\u001b[0m )\n\u001b[1;32m     26\u001b[0m \u001b[38;5;28;01mreturn\u001b[39;00m train_dl\n",
      "File \u001b[0;32m~/Documents/GitHub/deepoint/src/praxis/pc_dataset.py:238\u001b[0m, in \u001b[0;36mPCDataset.__init__\u001b[0;34m(self, keypoints_path, cfg, omit_image)\u001b[0m\n\u001b[1;32m    236\u001b[0m \u001b[38;5;28mself\u001b[39m\u001b[38;5;241m.\u001b[39maction_class_dict \u001b[38;5;241m=\u001b[39m {\u001b[38;5;241m0\u001b[39m: [\u001b[38;5;241m-\u001b[39m\u001b[38;5;241m1\u001b[39m], \u001b[38;5;241m1\u001b[39m: \u001b[38;5;28mlist\u001b[39m(\u001b[38;5;28mrange\u001b[39m(\u001b[38;5;241m0\u001b[39m, \u001b[38;5;241m100\u001b[39m))}\n\u001b[1;32m    237\u001b[0m \u001b[38;5;28mself\u001b[39m\u001b[38;5;241m.\u001b[39mnum_classes \u001b[38;5;241m=\u001b[39m \u001b[38;5;28mlen\u001b[39m(\u001b[38;5;28mself\u001b[39m\u001b[38;5;241m.\u001b[39maction_class_dict)\n\u001b[0;32m--> 238\u001b[0m \u001b[38;5;28;01mwith\u001b[39;00m \u001b[43m(\u001b[49m\u001b[43mkeypoints_path\u001b[49m\u001b[43m \u001b[49m\u001b[38;5;241;43m/\u001b[39;49m\u001b[43m \u001b[49m\u001b[38;5;124;43m\"\u001b[39;49m\u001b[38;5;124;43mtriangulation.pickle\u001b[39;49m\u001b[38;5;124;43m\"\u001b[39;49m\u001b[43m)\u001b[49m\u001b[38;5;241;43m.\u001b[39;49m\u001b[43mopen\u001b[49m\u001b[43m(\u001b[49m\u001b[38;5;124;43m\"\u001b[39;49m\u001b[38;5;124;43mrb\u001b[39;49m\u001b[38;5;124;43m\"\u001b[39;49m\u001b[43m)\u001b[49m \u001b[38;5;28;01mas\u001b[39;00m f:\n\u001b[1;32m    239\u001b[0m     \u001b[38;5;28mself\u001b[39m\u001b[38;5;241m.\u001b[39mcoords \u001b[38;5;241m=\u001b[39m pickle\u001b[38;5;241m.\u001b[39mload(f)\n\u001b[1;32m    240\u001b[0m \u001b[38;5;28;01mwith\u001b[39;00m (keypoints_path \u001b[38;5;241m/\u001b[39m \u001b[38;5;124m\"\u001b[39m\u001b[38;5;124mcollected_json.pickle\u001b[39m\u001b[38;5;124m\"\u001b[39m)\u001b[38;5;241m.\u001b[39mopen(\u001b[38;5;124m\"\u001b[39m\u001b[38;5;124mrb\u001b[39m\u001b[38;5;124m\"\u001b[39m) \u001b[38;5;28;01mas\u001b[39;00m f:\n",
      "File \u001b[0;32m/usr/local/Cellar/python@3.11/3.11.6_1/Frameworks/Python.framework/Versions/3.11/lib/python3.11/pathlib.py:1044\u001b[0m, in \u001b[0;36mPath.open\u001b[0;34m(self, mode, buffering, encoding, errors, newline)\u001b[0m\n\u001b[1;32m   1042\u001b[0m \u001b[38;5;28;01mif\u001b[39;00m \u001b[38;5;124m\"\u001b[39m\u001b[38;5;124mb\u001b[39m\u001b[38;5;124m\"\u001b[39m \u001b[38;5;129;01mnot\u001b[39;00m \u001b[38;5;129;01min\u001b[39;00m mode:\n\u001b[1;32m   1043\u001b[0m     encoding \u001b[38;5;241m=\u001b[39m io\u001b[38;5;241m.\u001b[39mtext_encoding(encoding)\n\u001b[0;32m-> 1044\u001b[0m \u001b[38;5;28;01mreturn\u001b[39;00m io\u001b[38;5;241m.\u001b[39mopen(\u001b[38;5;28mself\u001b[39m, mode, buffering, encoding, errors, newline)\n",
      "\u001b[0;31mFileNotFoundError\u001b[0m: [Errno 2] No such file or directory: '/Users/davidtung/Documents/GitHub/data/keypoints/triangulation.pickle'"
     ]
    }
   ],
   "source": [
    "main_func()"
   ]
  },
  {
   "cell_type": "markdown",
   "id": "625e3db0",
   "metadata": {},
   "source": []
  },
  {
   "cell_type": "code",
   "execution_count": null,
   "id": "1867789c-0164-429d-a6c1-03dba076e8d0",
   "metadata": {},
   "outputs": [],
   "source": []
  },
  {
   "cell_type": "code",
   "execution_count": null,
   "id": "123931a0-c4e0-46d0-99c4-1104c5a426fe",
   "metadata": {},
   "outputs": [],
   "source": []
  }
 ],
 "metadata": {
  "kernelspec": {
   "display_name": "base",
   "language": "python",
   "name": "python3"
  },
  "language_info": {
   "codemirror_mode": {
    "name": "ipython",
    "version": 3
   },
   "file_extension": ".py",
   "mimetype": "text/x-python",
   "name": "python",
   "nbconvert_exporter": "python",
   "pygments_lexer": "ipython3",
   "version": "3.11.6"
  }
 },
 "nbformat": 4,
 "nbformat_minor": 5
}
