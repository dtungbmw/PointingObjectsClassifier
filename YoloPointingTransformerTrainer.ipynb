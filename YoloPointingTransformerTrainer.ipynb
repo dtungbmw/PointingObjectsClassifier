{
 "cells": [
  {
   "cell_type": "code",
   "execution_count": 45,
   "id": "b589008e-aee0-42ed-8470-7e0a4419f5f3",
   "metadata": {},
   "outputs": [],
   "source": [
    "%reload_ext autoreload\n",
    "%autoreload 2"
   ]
  },
  {
   "cell_type": "code",
   "execution_count": 46,
   "id": "0edfb99f-6f13-41d0-b959-a4b4d7c62602",
   "metadata": {},
   "outputs": [],
   "source": [
    "from src.POCTrainer import *\n",
    "from omegaconf import DictConfig\n",
    "from hydra import initialize_config_dir, compose\n",
    "from pathlib import Path\n",
    "import os"
   ]
  },
  {
   "cell_type": "code",
   "execution_count": 53,
   "id": "6ecb6657-1ac9-4cfa-adf0-89af98f31947",
   "metadata": {},
   "outputs": [
    {
     "name": "stderr",
     "output_type": "stream",
     "text": [
      "/var/folders/m2/mrklln691tlgmqfvnszj86980000gq/T/ipykernel_91227/2270377663.py:3: UserWarning: \n",
      "The version_base parameter is not specified.\n",
      "Please specify a compatability version level, or None.\n",
      "Will assume defaults for version 1.1\n",
      "  with initialize_config_dir(config_dir=str(config_dir)):\n",
      "2024-11-04 23:32:29,883 - hydra.core.utils - DEBUG - Setting JobRuntime:name=app\n"
     ]
    },
    {
     "name": "stdout",
     "output_type": "stream",
     "text": [
      "{'data': {'dataset_name': 'POCDataset', 'data_root': 'data/frames/', 'label_root': 'data/labels/', 'keypoints_root': 'data/keypoints/', 'venue_names': ['2023-01-17-livingroom']}, 'model': {'tlength': 15, 'featvec_joint': True, 'hidden_size': 192, 'attention_heads': 12, 'num_layers': 6, 'featvec_bb': False, 'featvec_img': False, 'omit_temporal_encoder': False}, 'hardware': {'nworkers': 8, 'gpus': 8, 'bs': 32}, 'task': 'train', 'incl_all': False, 'train_ratio': 0.7, 'split_method': 'time', 'overfit': False, 'ckpt': None, 'noanswer': False, 'DEVICE': None, 'movie': None, 'lr': None, 'verbose': False, 'shrink_rate': 0.1, 'filter_joint': None, 'use_preprocessed': False, 'debug': False, 'hist_error': False}\n"
     ]
    }
   ],
   "source": [
    "DEVICE = \"cuda\" if torch.cuda.is_available() else \"cpu\"\n",
    "config_dir = Path(os.getcwd() + \"/conf\")\n",
    "with initialize_config_dir(config_dir=str(config_dir)):\n",
    "    cfg = compose(config_name=\"base\")\n",
    "#cfg = OmegaConf.load(os.getcwd() + \"/conf/pocmodel.yaml\")\n",
    "print(cfg)\n",
    "cfg.DEVICE = DEVICE\n",
    "\n"
   ]
  },
  {
   "cell_type": "code",
   "execution_count": 54,
   "id": "cc77bc85",
   "metadata": {},
   "outputs": [
    {
     "name": "stderr",
     "output_type": "stream",
     "text": [
      "2024-11-04 23:32:33,645 - root - WARNING - Training POC with CPU takes a long time.\n"
     ]
    },
    {
     "name": "stdout",
     "output_type": "stream",
     "text": [
      "Set up training dataset...\n"
     ]
    }
   ],
   "source": [
    "trainer = POCTrainer()\n",
    "dl = trainer.setup_dataloader(cfg)\n",
    "print(cfg)"
   ]
  },
  {
   "cell_type": "markdown",
   "id": "27806f9a",
   "metadata": {},
   "source": []
  },
  {
   "cell_type": "code",
   "execution_count": null,
   "id": "ed139600",
   "metadata": {},
   "outputs": [
    {
     "name": "stderr",
     "output_type": "stream",
     "text": [
      "/var/folders/m2/mrklln691tlgmqfvnszj86980000gq/T/ipykernel_91227/3655421811.py:4: UserWarning: \n",
      "The version_base parameter is not specified.\n",
      "Please specify a compatability version level, or None.\n",
      "Will assume defaults for version 1.1\n",
      "  with initialize_config_dir(config_dir=str(config_dir)):\n",
      "2024-11-04 23:21:46,140 - hydra.core.utils - DEBUG - Setting JobRuntime:name=app\n",
      "2024-11-04 23:21:46,219 - root - WARNING - Training POC with CPU takes a long time.\n"
     ]
    },
    {
     "name": "stdout",
     "output_type": "stream",
     "text": [
      "{'data': {'dataset_name': 'POCDataset', 'data_root': 'data/frames/', 'label_root': 'data/labels/', 'keypoints_root': 'data/keypoints/', 'venue_names': ['2023-01-17-livingroom']}, 'model': {'tlength': 15, 'featvec_joint': True, 'hidden_size': 192, 'attention_heads': 12, 'num_layers': 6, 'featvec_bb': False, 'featvec_img': False, 'omit_temporal_encoder': False}, 'hardware': {'nworkers': 8, 'gpus': 8, 'bs': 32}, 'task': 'train', 'incl_all': False, 'train_ratio': 0.7, 'split_method': 'time', 'overfit': False, 'ckpt': None, 'noanswer': False, 'DEVICE': None, 'movie': None, 'lr': None, 'verbose': False, 'shrink_rate': 0.1, 'filter_joint': None, 'use_preprocessed': False, 'debug': False, 'hist_error': False}\n",
      "Set up training dataset...\n"
     ]
    },
    {
     "name": "stderr",
     "output_type": "stream",
     "text": [
      "2024-11-04 23:23:51,419 - root - INFO - Initializing Dataset...\n",
      "2024-11-04 23:23:51,421 - root - INFO - Loading venue_path='data/frames/2023-01-17-livingroom'\n",
      "2024-11-04 23:23:51,424 - root - DEBUG - take1\n",
      "2024-11-04 23:23:52,468 - root - DEBUG - take2\n",
      "2024-11-04 23:23:53,485 - root - DEBUG - take3\n",
      "2024-11-04 23:23:57,336 - root - DEBUG - take4\n",
      "2024-11-04 23:24:01,645 - root - DEBUG - take5\n",
      "2024-11-04 23:24:05,859 - root - DEBUG - take6\n",
      "2024-11-04 23:24:07,132 - root - INFO - Initialized Dataset. Frames in dataset:220044.\n"
     ]
    },
    {
     "name": "stdout",
     "output_type": "stream",
     "text": [
      "Create training dataloader...\n",
      "{'data': {'dataset_name': 'POCDataset', 'data_root': 'data/frames/', 'label_root': 'data/labels/', 'keypoints_root': 'data/keypoints/', 'venue_names': ['2023-01-17-livingroom']}, 'model': {'tlength': 15, 'featvec_joint': True, 'hidden_size': 192, 'attention_heads': 12, 'num_layers': 6, 'featvec_bb': False, 'featvec_img': False, 'omit_temporal_encoder': False}, 'hardware': {'nworkers': 8, 'gpus': 8, 'bs': 32}, 'task': 'train', 'incl_all': False, 'train_ratio': 0.7, 'split_method': 'time', 'overfit': False, 'ckpt': None, 'noanswer': False, 'DEVICE': 'cpu', 'movie': None, 'lr': None, 'verbose': False, 'shrink_rate': 0.1, 'filter_joint': None, 'use_preprocessed': False, 'debug': False, 'hist_error': False}\n"
     ]
    }
   ],
   "source": [
    "trainer.launch_training()"
   ]
  },
  {
   "cell_type": "markdown",
   "id": "625e3db0",
   "metadata": {},
   "source": []
  },
  {
   "cell_type": "code",
   "execution_count": null,
   "id": "1867789c-0164-429d-a6c1-03dba076e8d0",
   "metadata": {},
   "outputs": [],
   "source": []
  },
  {
   "cell_type": "code",
   "execution_count": null,
   "id": "123931a0-c4e0-46d0-99c4-1104c5a426fe",
   "metadata": {},
   "outputs": [],
   "source": []
  }
 ],
 "metadata": {
  "kernelspec": {
   "display_name": "base",
   "language": "python",
   "name": "python3"
  },
  "language_info": {
   "codemirror_mode": {
    "name": "ipython",
    "version": 3
   },
   "file_extension": ".py",
   "mimetype": "text/x-python",
   "name": "python",
   "nbconvert_exporter": "python",
   "pygments_lexer": "ipython3",
   "version": "3.11.6"
  }
 },
 "nbformat": 4,
 "nbformat_minor": 5
}
